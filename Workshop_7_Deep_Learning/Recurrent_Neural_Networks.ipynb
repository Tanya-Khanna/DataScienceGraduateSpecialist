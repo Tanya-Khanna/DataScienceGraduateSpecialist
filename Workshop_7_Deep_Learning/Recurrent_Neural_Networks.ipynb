{
 "cells": [
  {
   "cell_type": "markdown",
   "id": "f942fe95",
   "metadata": {},
   "source": [
    "# Classifying Names with a Character-Level RNN\n",
    "\n",
    "This tutorial demonstrates the process of building a recurrent neural network (RNN) that accepts names, character by character, and predicts the language of each name. Through this exercise, learners will gain hands-on experience with several core concepts in machine learning and deep learning, specifically within the context of PyTorch, a leading deep learning framework.\n",
    "\n",
    "## What is PyTorch?\n",
    "\n",
    "PyTorch is an open-source machine learning library developed by Facebook's AI Research lab (FAIR). It provides a flexible and intuitive framework for building and training deep learning models. PyTorch is known for its dynamic computation graph that allows for more flexible model architecture, its ease of use in research and development, and its extensive ecosystem of tools and libraries.\n",
    "\n",
    "## Learning Objectives\n",
    "\n",
    "- Understand how to preprocess text data (names) and convert them into tensors that can be processed by neural networks.\n",
    "- Learn how to design and implement a recurrent neural network layer by layer using PyTorch.\n",
    "- Explore the sequential processing capabilities of RNNs and how they handle input data over time.\n",
    "- Discover how PyTorch automates the tracking of gradients and updates network parameters during training.\n",
    "- Use a confusion matrix to evaluate the performance of the RNN model and identify areas for improvement.\n",
    "\n",
    "## Understanding the Value of Recurrent Neural Networks (RNNs)\n",
    "\n",
    "Recurrent Neural Networks (RNNs) stand out in the neural network family due to their proficiency in handling sequential data. Unlike their counterparts, such as fully-connected or convolutional neural networks which require inputs of a fixed size, RNNs excel in dealing with inputs that vary in length. This characteristic makes them exceptionally suited for tasks involving streams of data, such as processing text one character at a time.\n",
    "\n",
    "### The Case for RNNs in Language Prediction\n",
    "\n",
    "Consider the task of determining the language origin of a name, for instance, \"John\" or \"Rodrigo\". Names vary significantly in length and structure, posing a challenge for neural network architectures that necessitate fixed-size inputs. While it's possible to adapt these models to handle variable-length inputs, RNNs offer a more natural and efficient solution.\n",
    "\n",
    "RNNs process inputs sequentially, making them ideal for this scenario. They can take each character of a name, one after the other, and use the information accumulated from previously seen characters to inform the prediction of the name's language origin. This ability to \"remember\" information from earlier in the sequence is what gives RNNs their edge in tasks involving variable-length sequences, making them a superior choice for our language prediction example."
   ]
  },
  {
   "cell_type": "markdown",
   "id": "88bec639",
   "metadata": {},
   "source": [
    "### Preprocessing Data for RNN\n",
    "\n",
    "Before diving into the construction of our Recurrent Neural Network, it's crucial to prepare our data. Given that our dataset comprises names from various languages, which may include accented characters, our first step involves normalizing these names. This normalization includes converting all characters to ASCII, removing any accents in the process. Simplifying the dataset in this manner reduces the complexity for our RNN, allowing it to focus on a smaller set of characters.\n",
    "\n",
    "### Converting Unicode to ASCII\n",
    "\n",
    "To handle names with accented letters, we utilize a function `unicode_to_ascii` that transforms a string containing Unicode characters into one that consists solely of ASCII characters. This simplification step is particularly helpful in standardizing the data and reducing the character set our model needs to learn."
   ]
  },
  {
   "cell_type": "code",
   "execution_count": 1,
   "id": "fdcb2d0d",
   "metadata": {},
   "outputs": [],
   "source": [
    "# Import necessary libraries for data processing\n",
    "import unicodedata\n",
    "import string\n",
    "\n",
    "# Define a string of valid characters including ASCII letters and some punctuation\n",
    "valid_chars = string.ascii_letters + \" .,;'\"\n",
    "n_chars = len(valid_chars)  # Count of valid characters, useful for later model configurations\n",
    "\n",
    "def unicode_to_ascii(string):\n",
    "    \"\"\"Convert a Unicode string into ASCII characters, removing accents.\"\"\"\n",
    "    # Normalize the string using NFD, then filter out non-ASCII and non-valid characters\n",
    "    return \"\".join(\n",
    "        c for c in unicodedata.normalize(\"NFD\", string)\n",
    "        if unicodedata.category(c) != \"Mn\" and c in valid_chars\n",
    "    )"
   ]
  },
  {
   "cell_type": "markdown",
   "id": "cf7f381e",
   "metadata": {},
   "source": [
    "### What is Unicode Normalization?\n",
    "\n",
    "Unicode normalization is a process for standardizing Unicode text into a consistent format, which is crucial for text processing and comparison tasks. Diacritics, or accent marks, are a common feature in many languages, providing phonetic distinction to letters. However, these can introduce complexity in text processing, especially in natural language processing (NLP) tasks.\n",
    "\n",
    "There are several forms of Unicode normalization, but here we'll focus on Normal Form D (NFD), which stands for Canonical Decomposition. NFD breaks down characters into their base characters and separate diacritic marks. This decomposition is particularly useful in NLP and text processing tasks because it allows for a more straightforward comparison of strings that may visually appear similar but are encoded differently in Unicode."
   ]
  },
  {
   "cell_type": "code",
   "execution_count": 2,
   "id": "3a3b8fce",
   "metadata": {},
   "outputs": [
    {
     "data": {
      "text/plain": [
       "'Girao'"
      ]
     },
     "execution_count": 2,
     "metadata": {},
     "output_type": "execute_result"
    }
   ],
   "source": [
    "unicode_to_ascii(\"Girão\")"
   ]
  },
  {
   "cell_type": "code",
   "execution_count": 3,
   "id": "7cd9816d",
   "metadata": {},
   "outputs": [
    {
     "data": {
      "text/plain": [
       "'Slusarski'"
      ]
     },
     "execution_count": 3,
     "metadata": {},
     "output_type": "execute_result"
    }
   ],
   "source": [
    "unicode_to_ascii(\"Ślusàrski\")"
   ]
  },
  {
   "cell_type": "markdown",
   "id": "1bac17ea",
   "metadata": {},
   "source": [
    "### Finding Data Files\n",
    "\n",
    "First, we identify the text files containing our dataset. This is achieved using the `pathlib` library, which provides an efficient method to glob through the directory containing our names dataset.\n"
   ]
  },
  {
   "cell_type": "code",
   "execution_count": 4,
   "id": "c3455115",
   "metadata": {},
   "outputs": [
    {
     "name": "stdout",
     "output_type": "stream",
     "text": [
      "18\n"
     ]
    }
   ],
   "source": [
    "# Import pathlib for efficient file system navigation\n",
    "import pathlib\n",
    "\n",
    "def find_files(path):\n",
    "    \"\"\"Return a list of all text files in the given directory.\"\"\"\n",
    "    # Use glob to find all '.txt' files in the specified path\n",
    "    return pathlib.Path(path).glob(\"*.txt\")\n",
    "\n",
    "print(len(list(find_files(\"names\"))))  # We have 18 files for 18 languages\n"
   ]
  },
  {
   "cell_type": "markdown",
   "id": "2be5c133",
   "metadata": {},
   "source": [
    "### Processing and Organizing Names by Language\n",
    "\n",
    "After identifying the files, we process each to normalize the names contained within and organize these names by their respective languages. This organization is crucial for training our RNN, as it allows for language-specific name processing.\n"
   ]
  },
  {
   "cell_type": "code",
   "execution_count": 5,
   "id": "fbfdda19",
   "metadata": {},
   "outputs": [
    {
     "name": "stdout",
     "output_type": "stream",
     "text": [
      " 1. Czech       : 519\n",
      " 2. German      : 724\n",
      " 3. Arabic      : 2000\n",
      " 4. Japanese    : 991\n",
      " 5. Chinese     : 268\n",
      " 6. Vietnamese  : 73\n",
      " 7. Russian     : 9408\n",
      " 8. French      : 277\n",
      " 9. Irish       : 232\n",
      "10. English     : 3668\n",
      "11. Spanish     : 298\n",
      "12. Greek       : 203\n",
      "13. Italian     : 709\n",
      "14. Portuguese  : 74\n",
      "15. Scottish    : 100\n",
      "16. Dutch       : 297\n",
      "17. Korean      : 94\n",
      "18. Polish      : 139\n"
     ]
    }
   ],
   "source": [
    "def process_names_file(filename):\n",
    "    \"\"\"Process each names file, normalizing names to ASCII.\"\"\"\n",
    "    with open(filename) as f:\n",
    "        # Read each line, strip whitespace, normalize to ASCII, and return as a list\n",
    "        return [unicode_to_ascii(line.strip()) for line in f]\n",
    "\n",
    "# Dictionary to hold names organized by language\n",
    "names_by_language = {\n",
    "    filename.stem: process_names_file(filename)  # Use file stem as the language key\n",
    "    for filename in find_files(\"names\")\n",
    "}\n",
    "\n",
    "# Extract and count the languages for analysis\n",
    "languages = list(names_by_language.keys())\n",
    "n_languages = len(languages)  # Count of languages\n",
    "\n",
    "# Print languages and the count of names per language for verification\n",
    "for idx, language in enumerate(languages, start=1):\n",
    "    print(f\"{idx:2}. {language:12}: {len(names_by_language[language])}\")\n"
   ]
  },
  {
   "cell_type": "markdown",
   "id": "6aa72864",
   "metadata": {},
   "source": [
    "### Converting Names into Tensors for Neural Network Input\n",
    "\n",
    "For a neural network, including a recurrent neural network (RNN), to process textual data, such as names, we must convert these strings into a numerical format it can understand - tensors. Tensors are a generalized form of vectors and matrices, and they represent a fundamental data structure in deep learning frameworks like PyTorch.\n",
    "\n",
    "### One-Hot Encoding of Characters\n",
    "\n",
    "The first step in this conversion process is to encode individual characters using a technique called one-hot encoding. In one-hot encoding, each character is represented as a vector where:\n",
    "- The length of the vector is equal to the total number of unique characters in the dataset (`n_chars`).\n",
    "- Each position in the vector corresponds to a unique character.\n",
    "- The vector is filled with zeros, except for the position corresponding to the character being encoded, which is set to one.\n",
    "\n",
    "This method allows us to convert categorical data (in this case, characters) into a numerical format that a neural network can process.\n",
    "\n",
    "Let's implement a function `char_to_tensor` that converts a single character into a one-hot encoded tensor using PyTorch:"
   ]
  },
  {
   "cell_type": "code",
   "execution_count": 6,
   "id": "a7a9b43b",
   "metadata": {},
   "outputs": [
    {
     "name": "stdout",
     "output_type": "stream",
     "text": [
      "tensor([1., 0., 0., 0., 0., 0., 0., 0., 0., 0., 0., 0., 0., 0., 0., 0., 0., 0.,\n",
      "        0., 0., 0., 0., 0., 0., 0., 0., 0., 0., 0., 0., 0., 0., 0., 0., 0., 0.,\n",
      "        0., 0., 0., 0., 0., 0., 0., 0., 0., 0., 0., 0., 0., 0., 0., 0., 0., 0.,\n",
      "        0., 0., 0.])\n",
      "tensor([0., 1., 0., 0., 0., 0., 0., 0., 0., 0., 0., 0., 0., 0., 0., 0., 0., 0.,\n",
      "        0., 0., 0., 0., 0., 0., 0., 0., 0., 0., 0., 0., 0., 0., 0., 0., 0., 0.,\n",
      "        0., 0., 0., 0., 0., 0., 0., 0., 0., 0., 0., 0., 0., 0., 0., 0., 0., 0.,\n",
      "        0., 0., 0.])\n",
      "tensor([0., 0., 0., 0., 0., 1., 0., 0., 0., 0., 0., 0., 0., 0., 0., 0., 0., 0.,\n",
      "        0., 0., 0., 0., 0., 0., 0., 0., 0., 0., 0., 0., 0., 0., 0., 0., 0., 0.,\n",
      "        0., 0., 0., 0., 0., 0., 0., 0., 0., 0., 0., 0., 0., 0., 0., 0., 0., 0.,\n",
      "        0., 0., 0.])\n"
     ]
    }
   ],
   "source": [
    "import torch\n",
    "\n",
    "def char_to_tensor(char):\n",
    "    \"\"\"Convert a character into a one-hot encoded vector.\"\"\"\n",
    "    # Initialize a tensor of zeros with length equal to the number of unique characters\n",
    "    tensor = torch.zeros(n_chars)\n",
    "    # Set the position corresponding to the character to 1\n",
    "    tensor[valid_chars.index(char)] = 1\n",
    "    return tensor\n",
    "\n",
    "# Demonstrate the function with examples\n",
    "print(char_to_tensor(\"a\"))  # Example for 'a'\n",
    "print(char_to_tensor(\"b\"))  # Example for 'b'\n",
    "print(char_to_tensor(\"f\"))  # Example for 'f'"
   ]
  },
  {
   "cell_type": "markdown",
   "id": "4414d03b",
   "metadata": {},
   "source": [
    "For a full name, we create a matrix where each row represents a one-hot encoding of the corresponding character:"
   ]
  },
  {
   "cell_type": "code",
   "execution_count": 7,
   "id": "76841903",
   "metadata": {},
   "outputs": [],
   "source": [
    "def name_to_tensor(name):\n",
    "    \"\"\"\n",
    "    Convert a name into a matrix where each row one-hot encodes a character.\n",
    "\n",
    "    Args:\n",
    "    - name (str): The name to be converted into a tensor.\n",
    "\n",
    "    Returns:\n",
    "    - torch.Tensor: A tensor where each row is the one-hot encoded representation of a character in the name.\n",
    "    \"\"\"\n",
    "\n",
    "    # Initialize a tensor of zeros with dimensions:\n",
    "    # Number of characters in the name (rows) x Number of unique characters (columns).\n",
    "    # This creates a matrix where each row can represent a one-hot encoded character.\n",
    "    tensor = torch.zeros(len(name), n_chars)\n",
    "    \n",
    "    # Iterate over each character in the name along with its index.\n",
    "    for idx, char in enumerate(name):\n",
    "        # For the current character, find its index in the list of valid characters.\n",
    "        # This index points to the \"hot\" position (where the 1 should be placed).\n",
    "        # The row corresponds to the current character's position in the name,\n",
    "        # and the column corresponds to the character's position in the list of valid characters.\n",
    "        tensor[idx][valid_chars.index(char)] = 1\n",
    "    \n",
    "    # Return the fully constructed tensor.\n",
    "    return tensor"
   ]
  },
  {
   "cell_type": "markdown",
   "id": "9188db49",
   "metadata": {},
   "source": [
    "### Creating the RNN architecture"
   ]
  },
  {
   "cell_type": "code",
   "execution_count": 8,
   "id": "dcacd4ee",
   "metadata": {},
   "outputs": [],
   "source": [
    "import torch.nn as nn\n",
    "\n",
    "class RNN(nn.Module):\n",
    "    \"\"\"Simple RNN architecture that explicitly accepts its hidden state.\"\"\"\n",
    "    \n",
    "    def __init__(self, input_size, hidden_size, output_size):\n",
    "        # Initialize the parent class, nn.Module\n",
    "        super().__init__()\n",
    "        \n",
    "        # Store the size of the hidden layer\n",
    "        self.hidden_size = hidden_size\n",
    "        \n",
    "        # Calculate the combined size, which is the sum of input and hidden sizes.\n",
    "        # This is used because the input and hidden states are concatenated before being fed into layers.\n",
    "        combined_size = input_size + hidden_size\n",
    "        \n",
    "        # Define a linear layer that transforms the combined input and hidden state to a new hidden state.\n",
    "        # This layer effectively updates the hidden state based on the current input and the previous hidden state.\n",
    "        self.i2h = nn.Linear(combined_size, hidden_size)\n",
    "        \n",
    "        # Define another linear layer that transforms the combined input and hidden state to the output.\n",
    "        # This layer generates the output based on the current input and the previous hidden state.\n",
    "        self.i2o = nn.Linear(combined_size, output_size)\n",
    "        \n",
    "        # Define a softmax layer that normalizes the output to a probability distribution.\n",
    "        # LogSoftmax is used for numerical stability, especially useful in conjunction with loss functions like NLLLoss.\n",
    "        self.softmax = nn.LogSoftmax(dim=0)\n",
    "    \n",
    "    def forward(self, input, hidden):\n",
    "        \"\"\"Forward pass for a given input tensor and hidden state.\"\"\"\n",
    "        \n",
    "        # Concatenate the input tensor and the hidden state to form the combined tensor.\n",
    "        combined = torch.cat((input, hidden))\n",
    "        \n",
    "        # Pass the combined tensor through the i2h layer to update the hidden state.\n",
    "        hidden = self.i2h(combined)\n",
    "        \n",
    "        # Pass the same combined tensor through the i2o layer to get the raw output.\n",
    "        output = self.i2o(combined)\n",
    "        \n",
    "        # Apply softmax to the raw output to get a normalized probability distribution.\n",
    "        output = self.softmax(output)\n",
    "        \n",
    "        # Return the output and the new hidden state.\n",
    "        return output, hidden\n",
    "\n",
    "    def init_hidden(self):\n",
    "        \"\"\"Create a new hidden state of zeros for a new sequence/name.\"\"\"\n",
    "        # Initialize the hidden state to a tensor of zeros with size equal to the hidden layer size.\n",
    "        return torch.zeros(self.hidden_size)\n"
   ]
  },
  {
   "cell_type": "markdown",
   "id": "08528805",
   "metadata": {},
   "source": [
    "### The Hidden State in Recurrent Neural Networks\n",
    "\n",
    "Understanding the hidden state is crucial for grasping how Recurrent Neural Networks (RNNs) process sequential data, such as strings of text. The hidden state acts as the network's memory, allowing it to retain information about the sequence it has processed so far. This enables the RNN to make informed predictions based on both the current input and the context provided by previously seen inputs.\n",
    "\n",
    "The hidden state is a dynamic component of RNNs that gets updated with each new input from a sequence. This updating mechanism allows the network to \"remember\" and utilize information from earlier in the sequence, a capability that is essential for tasks such as language modeling, text generation, and, in our case, language identification from names.\n",
    "\n",
    "Without a hidden state, the RNN would treat each input in isolation, losing the sequential context that gives meaning to the data. For example, when processing a name, the absence of a hidden state would reduce the network's operation to considering only the last character of the name for its prediction, which is not practical for most sequential tasks.\n",
    "\n",
    "To illustrate the role of the hidden state, let's consider feeding a name into an RNN, character by character, and observe how the hidden state is initialized and updated throughout the process."
   ]
  },
  {
   "cell_type": "code",
   "execution_count": 9,
   "id": "a2d1bae5",
   "metadata": {},
   "outputs": [
    {
     "name": "stdout",
     "output_type": "stream",
     "text": [
      "tensor([-2.8550, -2.9016, -3.0400, -2.8167, -2.8539, -3.0030, -2.8876, -2.7768,\n",
      "        -2.8336, -2.8226, -2.9314, -2.9797, -2.9596, -2.9122, -2.8007, -2.9120,\n",
      "        -2.8431, -2.9430], grad_fn=<LogSoftmaxBackward0>)\n"
     ]
    }
   ],
   "source": [
    "# Initialize the RNN with the number of unique characters, hidden size, and number of languages\n",
    "rnn = RNN(n_chars, 128, n_languages)  # 128 is an arbitrary hidden size value.\n",
    "\n",
    "# Initialize the hidden state\n",
    "hidden = rnn.init_hidden()\n",
    "\n",
    "# Convert the name \"Rodrigo\" to a tensor and feed it to the network character by character\n",
    "for char_tensor in name_to_tensor(\"Rodrigo\"):\n",
    "    output, hidden = rnn.forward(char_tensor, hidden)\n",
    "\n",
    "print(output)"
   ]
  },
  {
   "cell_type": "markdown",
   "id": "a1cb70ae",
   "metadata": {},
   "source": [
    "As you can see, before feeding a name into the network, we initialise the hidden state. Then, we keep feeding the hidden state into the network along with the successive characters. Finally, we can inspect the output of the network.\n",
    "\n",
    "Notice that we care about the intermediate values of hidden, because we need to feed them to the network in the next iteration. However, we do not care about the final value of hidden, because we have no use for it; it is something that only concerns the network. Conversely, we do not care about the intermediate values of output; we only care about the final value because that is the final prediction of the network."
   ]
  },
  {
   "cell_type": "markdown",
   "id": "df1abd9f",
   "metadata": {},
   "source": [
    "### Interpreting the Output with Logarithmic Softmax Layer\n",
    "The logarithmic softmax layer plays a crucial role in neural network architectures, particularly in classification tasks. Its primary function is to transform the raw output scores from the network into logarithms of probabilities, facilitating easier interpretation and comparison of results. This layer ensures that the output values are normalized to represent a valid probability distribution.\n",
    "\n",
    "### Understanding Log Softmax Output\n",
    "After passing through a log softmax layer, the output tensor comprises negative values, which are the logarithms of the probabilities for each class. A value closer to 0 indicates higher confidence in the prediction. Essentially, the network's confidence in its prediction increases as the output value approaches zero.\n",
    "\n",
    "For example, if the network outputs a value of -0.00001 for a specific class, it signifies an extremely high confidence level in that prediction, nearly certain.\n",
    "\n",
    "Before training the network, it's essential to have a clear understanding of how to handle and interpret its outputs. Proper preparation and utility functions are key to effectively training and evaluating the model.\n",
    "\n",
    "To interpret the network's output, we often use a helper function like language_from_output. This function analyzes the output vector, which, in our context, consists of 18 negative values representing the logarithmic probabilities of each language class. The goal is to identify the highest value (least negative, thus closest to zero) in this vector, as it corresponds to the network's most confident guess for the correct language."
   ]
  },
  {
   "cell_type": "code",
   "execution_count": 10,
   "id": "a0060ed2",
   "metadata": {},
   "outputs": [
    {
     "name": "stdout",
     "output_type": "stream",
     "text": [
      "('French', 7)\n"
     ]
    }
   ],
   "source": [
    "def language_from_output(output):\n",
    "    \"\"\"\n",
    "    Interpret the network output classification.\n",
    "    \n",
    "    Args:\n",
    "    - output (torch.Tensor): The output tensor from the network, typically post-log softmax.\n",
    "    \n",
    "    Returns:\n",
    "    - tuple: A tuple containing the predicted language name and its corresponding index.\n",
    "    \"\"\"\n",
    "    # Utilize the torch.topk method to get the indices of the highest value in the output tensor.\n",
    "    # The '1' argument specifies that we want the top 1 value. 'output.topk(1)' returns two tensors:\n",
    "    # one for the values and one for the indices of these top values. Here, we're interested in the index.\n",
    "    # '_' is used to ignore the values tensor since we only care about the indices.\n",
    "    _, top_idx = output.topk(1)\n",
    "    \n",
    "    # Extract the actual index value of the top class from the 'top_idx' tensor.\n",
    "    # '.item()' converts the tensor value to a Python number.\n",
    "    # This index corresponds to the predicted language by the network, as it's the class\n",
    "    # with the highest probability (least negative log probability).\n",
    "    language_idx = top_idx[0].item()\n",
    "    \n",
    "    # Return the language name by using the 'language_idx' to index into the 'languages' list,\n",
    "    # which contains the names of the languages. Also, return the index itself for additional utility.\n",
    "    return languages[language_idx], language_idx\n",
    "\n",
    "# Example usage: 'output' is the tensor obtained from the network's prediction.\n",
    "print(language_from_output(output))\n"
   ]
  },
  {
   "cell_type": "code",
   "execution_count": 11,
   "id": "1cc52b91",
   "metadata": {},
   "outputs": [],
   "source": [
    "import random\n",
    "\n",
    "# Define the split ratio for training data; 85% of the data will be used for training,\n",
    "# and the remaining 15% will be used for testing.\n",
    "split = 0.85\n",
    "\n",
    "# Initialize two dictionaries to hold the training and testing datasets.\n",
    "training = {}\n",
    "testing = {}\n",
    "\n",
    "# Iterate over the dictionary containing names categorized by language.\n",
    "for language, names in names_by_language.items():\n",
    "    # Randomly shuffle the list of names for each language to ensure a random distribution\n",
    "    # of data into training and testing sets. This step is crucial to avoid any bias\n",
    "    # that might come from the order in which the data was originally collected or listed.\n",
    "    random.shuffle(names)\n",
    "    \n",
    "    # Calculate the index at which to split the names into training and testing sets\n",
    "    # based on the defined split ratio. The `round` function is used to ensure the index\n",
    "    # is an integer. For example, if there are 100 names and the split is 0.85,\n",
    "    # the training set will contain the first 85 names, and the testing set will contain the remaining 15.\n",
    "    idx = round(split * len(names))\n",
    "    \n",
    "    # Slice the names list to create the training set for the current language. This set\n",
    "    # includes names from the start of the list up to the calculated index.\n",
    "    training[language] = names[:idx]\n",
    "    \n",
    "    # Slice the names list to create the testing set for the current language. This set\n",
    "    # includes names from the calculated index to the end of the list.\n",
    "    testing[language] = names[idx:]\n"
   ]
  },
  {
   "cell_type": "markdown",
   "id": "cf54a16d",
   "metadata": {},
   "source": [
    "Then, we need an auxiliary function to retrieve a random example to feed into the network:"
   ]
  },
  {
   "cell_type": "code",
   "execution_count": 12,
   "id": "55fcb5b5",
   "metadata": {},
   "outputs": [
    {
     "name": "stdout",
     "output_type": "stream",
     "text": [
      "language = 'Greek', name = 'Papadopulos'\n",
      "language = 'Vietnamese', name = 'Than'\n",
      "language = 'Dutch', name = 'Snaijer'\n"
     ]
    }
   ],
   "source": [
    "import random\n",
    "\n",
    "def random_example(source):\n",
    "    \"\"\"\n",
    "    Retrieve a random example from a source dictionary.\n",
    "\n",
    "    Args:\n",
    "    - source (dict): A dictionary mapping languages to lists of names.\n",
    "\n",
    "    Returns:\n",
    "    - tuple: A tuple containing the selected language, name, language tensor, and name tensor.\n",
    "    \"\"\"\n",
    "    # Randomly select a language key from the source dictionary.\n",
    "    # 'list(source.keys())' converts the dictionary keys into a list, from which 'random.choice'\n",
    "    # selects one element at random.\n",
    "    language = random.choice(list(source.keys()))\n",
    "    \n",
    "    # Randomly select a name from the list associated with the chosen language in the source dictionary.\n",
    "    name = random.choice(source[language])\n",
    "    \n",
    "    # Convert the selected language into a tensor. This involves finding the index of the language\n",
    "    # in the predefined 'languages' list, and then creating a tensor from this index value.\n",
    "    # The dtype=torch.long specifies the data type of the tensor elements as long integers.\n",
    "    lang_tensor = torch.tensor([languages.index(language)], dtype=torch.long)\n",
    "    \n",
    "    # Convert the selected name into a tensor using the previously defined 'name_to_tensor' function.\n",
    "    # This function typically converts names into one-hot encoded tensors suitable for model input.\n",
    "    name_tensor = name_to_tensor(name)\n",
    "    \n",
    "    # Return the selected language, name, and their respective tensors.\n",
    "    return language, name, lang_tensor, name_tensor\n",
    "\n",
    "# Demonstration: Fetch and print 3 random examples from the training dataset.\n",
    "for _ in range(3):\n",
    "    language, name, lang_tensor, name_tensor = random_example(training)\n",
    "    print(f\"{language = }, {name = }\")\n"
   ]
  },
  {
   "cell_type": "markdown",
   "id": "7d48c1ce",
   "metadata": {},
   "source": [
    "The final utility function we will implement is the function train, which accepts the network, the name tensor, and the expected output, and trains the network on that example. The train function is designed to perform a single update to the weights of your network based on one training example. It uses a learning rate and a loss function, which are crucial components in the training process. The function train will make use of two global variables:"
   ]
  },
  {
   "cell_type": "markdown",
   "id": "1d0c6564",
   "metadata": {},
   "source": [
    "1. Learning Rate (learning_rate): This is a hyperparameter that controls how much to adjust the model's weights with respect to the gradient of the loss function. A smaller learning rate requires more training epochs through the dataset, and vice versa. Finding the right learning rate is key to effective training, as too large a rate can cause the model to converge too quickly to a suboptimal solution, while too small a rate can make the training process unnecessarily slow.\n",
    "\n",
    "2. Loss Function (criterion): The Negative Log Likelihood Loss (NLLLoss) is chosen here, which is a common choice for classification problems. This loss function is suitable when the output of the network is a log probability distribution over classes, as obtained from a logarithmic softmax layer. NLLLoss measures how well the model predicts the correct class, with the goal being to minimize this value over time."
   ]
  },
  {
   "cell_type": "code",
   "execution_count": 13,
   "id": "4370d844",
   "metadata": {},
   "outputs": [],
   "source": [
    "learning_rate = 0.005  # Set through experimentation.\n",
    "criterion = nn.NLLLoss()  # Suitable loss function."
   ]
  },
  {
   "cell_type": "code",
   "execution_count": 14,
   "id": "ec2d6392",
   "metadata": {},
   "outputs": [],
   "source": [
    "def train(rnn, name_tensor, lang_tensor):\n",
    "    # Initialize the hidden state of the RNN. This is crucial for RNNs as they maintain state across the sequence.\n",
    "    hidden = rnn.init_hidden()\n",
    "\n",
    "    # Before the forward pass, clear out the gradients from all the parameters in the RNN.\n",
    "    # This is necessary because gradients accumulate by default in PyTorch whenever .backward() is called.\n",
    "    rnn.zero_grad()\n",
    "\n",
    "    # Iterate over each character in the input name tensor.\n",
    "    # For each character, perform a forward pass through the RNN.\n",
    "    # This updates the hidden state and produces an output.\n",
    "    for char_tensor in name_tensor:\n",
    "        output, hidden = rnn(char_tensor, hidden)\n",
    "\n",
    "    output = output.unsqueeze(0)\n",
    "    # After processing all characters, compute the loss between the final output and the target language tensor.\n",
    "    # The criterion (NLLLoss) is suited for classification tasks and expects log probabilities from the network.\n",
    "    loss = criterion(output, lang_tensor)\n",
    "    \n",
    "    # Perform backpropagation starting from the loss to compute the gradients for all parameters in the model.\n",
    "    loss.backward()\n",
    "\n",
    "    # Update the parameters of the RNN using a simple form of gradient descent.\n",
    "    # This manually applies the update by subtracting a fraction of the gradient from the parameters.\n",
    "    # The learning rate controls the size of the update step.\n",
    "    for p in rnn.parameters():\n",
    "        p.data.add_(p.grad.data, alpha=-learning_rate)\n",
    "\n",
    "    # Return the final output and the loss value for this training step.\n",
    "    return output, loss.item()\n"
   ]
  },
  {
   "cell_type": "markdown",
   "id": "712fd0c5",
   "metadata": {},
   "source": [
    "To train the network, all we have to do is give it many training examples!"
   ]
  },
  {
   "cell_type": "code",
   "execution_count": 16,
   "id": "6416f3fd",
   "metadata": {},
   "outputs": [],
   "source": [
    "N_ITERS = 50000  # Total number of training iterations.\n",
    "\n",
    "# Loop through each training iteration.\n",
    "for _ in range(N_ITERS):\n",
    "    # Fetch a random example from the training set.\n",
    "    # 'lang' is the language name, 'name' is the specific name,\n",
    "    # 'lang_tensor' is the tensor representation of the language (target),\n",
    "    # 'name_tensor' is the tensor representation of the name (input).\n",
    "    lang, name, lang_tensor, name_tensor = random_example(training)\n",
    "    \n",
    "    # Train the RNN on the fetched example.\n",
    "    # This involves running the input (name_tensor) through the RNN,\n",
    "    # calculating the loss between the output and the target (lang_tensor),\n",
    "    # performing backpropagation based on the loss, and updating the RNN's parameters.\n",
    "    output, loss = train(rnn, name_tensor, lang_tensor)"
   ]
  },
  {
   "cell_type": "markdown",
   "id": "fe69a755",
   "metadata": {},
   "source": [
    "However, we want to keep track of the loss of the network (to plot its evolution later) and we also want to have a couple of auxiliary prints so we can tell that the code is running. "
   ]
  },
  {
   "cell_type": "code",
   "execution_count": 17,
   "id": "2693e5eb",
   "metadata": {},
   "outputs": [
    {
     "name": "stdout",
     "output_type": "stream",
     "text": [
      "2.0% (0m 0.46s) 2.8749\n",
      "4.0% (0m 0.91s) 2.8145\n",
      "6.0% (0m 1.35s) 2.7604\n",
      "8.0% (0m 1.80s) 2.6791\n",
      "10.0% (0m 2.26s) 2.5567\n",
      "12.0% (0m 2.71s) 2.4511\n",
      "14.0% (0m 3.16s) 2.3843\n",
      "16.0% (0m 3.61s) 2.2903\n",
      "18.0% (0m 4.07s) 2.2150\n",
      "20.0% (0m 4.52s) 2.1900\n",
      "22.0% (0m 4.97s) 2.1033\n",
      "24.0% (0m 5.43s) 2.0533\n",
      "26.0% (0m 5.87s) 2.0590\n",
      "28.0% (0m 6.32s) 2.0245\n",
      "30.0% (0m 6.77s) 1.9949\n",
      "32.0% (0m 7.22s) 1.9922\n",
      "34.0% (0m 7.67s) 1.9273\n",
      "36.0% (0m 8.12s) 1.9051\n",
      "38.0% (0m 8.57s) 1.8941\n",
      "40.0% (0m 9.02s) 1.7987\n",
      "42.0% (0m 9.48s) 1.7560\n",
      "44.0% (0m 9.93s) 1.7919\n",
      "46.0% (0m 10.39s) 1.7798\n",
      "48.0% (0m 10.84s) 1.7808\n",
      "50.0% (0m 11.29s) 1.7492\n",
      "52.0% (0m 11.74s) 1.7829\n",
      "54.0% (0m 12.19s) 1.7461\n",
      "56.0% (0m 12.64s) 1.7295\n",
      "58.0% (0m 13.11s) 1.6836\n",
      "60.0% (0m 13.59s) 1.6704\n",
      "62.0% (0m 14.04s) 1.6075\n",
      "64.0% (0m 14.48s) 1.5614\n",
      "66.0% (0m 14.94s) 1.5919\n",
      "68.0% (0m 15.40s) 1.5679\n",
      "70.0% (0m 15.86s) 1.5606\n",
      "72.0% (0m 16.31s) 1.6370\n",
      "74.0% (0m 16.77s) 1.6157\n",
      "76.0% (0m 17.21s) 1.5528\n",
      "78.0% (0m 17.66s) 1.5384\n",
      "80.0% (0m 18.11s) 1.4579\n",
      "82.0% (0m 18.56s) 1.5444\n",
      "84.0% (0m 19.01s) 1.6367\n",
      "86.0% (0m 19.47s) 1.5046\n",
      "88.0% (0m 19.91s) 1.5056\n",
      "90.0% (0m 20.36s) 1.4986\n",
      "92.0% (0m 20.81s) 1.4859\n",
      "94.0% (0m 21.27s) 1.4716\n",
      "96.0% (0m 21.72s) 1.4918\n",
      "98.0% (0m 22.18s) 1.4346\n",
      "100.0% (0m 22.63s) 1.3751\n"
     ]
    }
   ],
   "source": [
    "import time\n",
    "\n",
    "N_ITERS = 50000\n",
    "PRINT_EVERY = 5000\n",
    "LOG_EVERY = 1000\n",
    "\n",
    "# Keep track of losses for plotting.\n",
    "current_loss = 0\n",
    "all_losses = []\n",
    "\n",
    "def time_since(since):\n",
    "    \"\"\"Return a string with time elapsed.\"\"\"\n",
    "    now = time.time()\n",
    "    s = now - since\n",
    "    m, s = divmod(s, 60)\n",
    "    return f\"{int(m)}m {s:.2f}s\"\n",
    "\n",
    "n_hidden = 128\n",
    "rnn = RNN(n_chars, n_hidden, n_languages)\n",
    "\n",
    "start = time.time()\n",
    "\n",
    "for it in range(1, N_ITERS + 1):\n",
    "    lang, name, lang_tensor, name_tensor = random_example(training)\n",
    "    output, loss = train(rnn, name_tensor, lang_tensor)\n",
    "    current_loss += loss\n",
    "\n",
    "    if it % LOG_EVERY == 0:\n",
    "        # Print current progress.\n",
    "        avg_loss = current_loss / LOG_EVERY\n",
    "        print(f\"{100 * it / N_ITERS}% ({time_since(start)}) {avg_loss:.4f}\")\n",
    "        # Save average loss for plotting.\n",
    "        all_losses.append(avg_loss)\n",
    "        current_loss = 0"
   ]
  },
  {
   "cell_type": "code",
   "execution_count": 18,
   "id": "653c514a",
   "metadata": {},
   "outputs": [
    {
     "data": {
      "image/png": "[encoded data removed]",
      "text/plain": [
       "<Figure size 1000x500 with 1 Axes>"
      ]
     },
     "metadata": {},
     "output_type": "display_data"
    }
   ],
   "source": [
    "import matplotlib.pyplot as plt\n",
    "\n",
    "# Prepare the plot\n",
    "plt.figure(figsize=(10, 5))  # Set the figure size for better readability\n",
    "plt.plot(all_losses, label='Training Loss')  # Plot the losses with a label\n",
    "\n",
    "# Add titles and labels\n",
    "plt.title('Training Loss Over Time')  # Title of the plot\n",
    "plt.xlabel('Iterations (x1000)')  # X-axis label\n",
    "plt.ylabel('Loss')  # Y-axis label\n",
    "\n",
    "# Add a grid for easier reading\n",
    "plt.grid(True, which='both', linestyle='--', linewidth=0.5)\n",
    "\n",
    "# Add a legend to explain which line is which\n",
    "plt.legend()\n",
    "\n",
    "# Optionally, you can also add ticks at every logging interval for better clarity\n",
    "xticks = range(0, len(all_losses), 5)  # Adjust the range and steps as needed\n",
    "xticklabels = [f\"{x * LOG_EVERY / 1000:.1f}\" for x in xticks]  # Assuming LOG_EVERY iterations per log\n",
    "plt.xticks(ticks=xticks, labels=xticklabels)\n",
    "\n",
    "# Display the plot\n",
    "plt.show()\n"
   ]
  },
  {
   "cell_type": "markdown",
   "id": "ac5342bc",
   "metadata": {},
   "source": [
    "#### Training Loss Over Time\n",
    "\n",
    "The above plot illustrates the training loss of a Recurrent Neural Network as it processes and learns from the data over time. Each point on the graph represents the average loss calculated over a set interval of iterations, providing insight into the model's learning progress throughout the training phase.\n",
    "\n",
    "#### Observations:\n",
    "\n",
    "- **Downward Trend**: As is typical with successful training processes, the loss consistently decreases, indicating that the model is effectively minimizing the loss function and learning from the training data.\n",
    "\n",
    "- **Rate of Decrease**: Initially, there's a steep drop in loss, suggesting that the model is rapidly learning. As iterations continue, the rate of decrease in loss slows down. This is common because early in training, there is a lot of \"low-hanging fruit\" for the model to learn from. As it starts to converge to a solution, improvements are harder to come by.\n",
    "  \n",
    "- **Fluctuations**: Some fluctuations in the loss values are observed, which are common and represent the iterative nature of the learning process as the model navigates the loss landscape.\n",
    "\n",
    "- **Plateaus**: Towards the later iterations, the loss reduction appears to slow down, approaching what could be a plateau. This can imply that the model is nearing its convergence point, where further training may yield diminishing returns on loss reduction.\n",
    "\n",
    "- **Final Loss Value**: The final value of the loss can give an indication of how well the model might perform on unseen data, although it's not the only metric that should be considered. If the loss is still relatively high, it might suggest underfitting. If the training loss is low but the model performs poorly on validation data, it could be overfitting.\n",
    "\n",
    "The plot is a valuable diagnostic tool, showing not only the effectiveness of the learning process but also highlighting areas where the learning rate, model architecture, or the data itself may need adjusting for improved performance.\n",
    "\n",
    "### Potential Next Steps to Improve RNN Performance\n",
    "\n",
    "After examining the training loss over time, we can consider several strategies to refine the learning process and enhance the model's predictive power.\n",
    "\n",
    "#### Learning Rate Annealing\n",
    "- **Description**: As the model approaches convergence, decreasing the learning rate can help fine-tune the adjustments to the weights, potentially leading to a better-fit model.\n",
    "- **Action**: Implement a learning rate scheduler that reduces the learning rate after a certain number of epochs or when the loss plateaus.\n",
    "\n",
    "#### Regularization\n",
    "- **Description**: Regularization techniques help prevent the model from overfitting to the training data, ensuring it generalizes well to unseen data.\n",
    "- **Action**: Introduce dropout layers or apply L2 weight regularization to the training process.\n",
    "\n",
    "#### Model Complexity\n",
    "- **Description**: If the model's performance has plateaued, it might be due to a lack of capacity to capture the complexity of the dataset.\n",
    "- **Action**: Increase the complexity of the model by adding more layers or increasing the number of neurons in existing layers.\n",
    "\n",
    "#### Early Stopping\n",
    "- **Description**: Training for too long can lead to overfitting, and early stopping helps prevent this by terminating the training process once the model stops improving on a validation set.\n",
    "- **Action**: Monitor performance on a validation set and stop training when improvement ceases for a set number of iterations.\n",
    "\n",
    "#### Data Augmentation\n",
    "- **Description**: More diverse training data can improve the model's ability to generalize and perform well on unseen data.\n",
    "- **Action**: Augment the dataset by adding variations to the existing data or gathering more data if possible.\n",
    "\n",
    "#### Validation Loss Monitoring\n",
    "- **Description**: Observing the validation loss alongside the training loss offers a clearer picture of the model's generalization capabilities.\n",
    "- **Action**: Plot the validation loss over time and compare it with the training loss to check for signs of overfitting.\n",
    "\n",
    "Implementing these steps requires careful monitoring and iteration. Each change should be validated by observing its effect on both training and validation performance to ensure the model benefits from the adjustments.\n"
   ]
  },
  {
   "cell_type": "markdown",
   "id": "149ee278",
   "metadata": {},
   "source": [
    "To evaluate the network, we will create a confusion matrix. We can do this by going through all of the available testing examples and making note of what the network thinks is the language of that given name.\n",
    "\n",
    "The context manager torch.no_grad can be used to disable the automatic tracking of gradients that PyTorch does. When testing the network, we do not need to keep track of the gradients because those are only needed for training. So, we disable gradient tracking inside evaluate_test."
   ]
  },
  {
   "cell_type": "code",
   "execution_count": 19,
   "id": "40cf39f9",
   "metadata": {},
   "outputs": [],
   "source": [
    "def evaluate_test(rnn, name_tensor):\n",
    "    \"\"\"Auxiliary function to get the output from the network without training.\"\"\"\n",
    "    hidden = rnn.init_hidden()\n",
    "\n",
    "    with torch.no_grad():\n",
    "        for char_tensor in name_tensor:\n",
    "            output, hidden = rnn(char_tensor, hidden)\n",
    "\n",
    "    return output"
   ]
  },
  {
   "cell_type": "code",
   "execution_count": 20,
   "id": "05ef2a68",
   "metadata": {},
   "outputs": [
    {
     "name": "stdout",
     "output_type": "stream",
     "text": [
      "Overall accuracy is 51.49%\n"
     ]
    }
   ],
   "source": [
    "# Empty confusion matrix:\n",
    "confusion = torch.zeros(n_languages, n_languages)\n",
    "\n",
    "# Go through all examples and see how the network does.\n",
    "correct = 0\n",
    "for language, names in testing.items():\n",
    "    lang_idx = languages.index(language)\n",
    "    for name in names:\n",
    "        # Build the language and name tensors for the example.\n",
    "        lang_tensor = torch.tensor(languages.index(language), dtype=torch.long)\n",
    "        name_tensor = name_to_tensor(name)\n",
    "        # Get the output.\n",
    "        output = evaluate_test(rnn, name_tensor)\n",
    "        # Interpret the output.\n",
    "        _, guess_idx = language_from_output(output)\n",
    "        # Mark the output in the confusion matrix.\n",
    "        confusion[lang_idx][guess_idx] += 1\n",
    "        # Did we guess correctly?\n",
    "        correct += guess_idx == lang_idx\n",
    "\n",
    "total_examples = sum(len(names) for names in testing.values())\n",
    "print(f\"Overall accuracy is {100 * correct / total_examples:.2f}%\")"
   ]
  },
  {
   "cell_type": "markdown",
   "id": "8186a01e",
   "metadata": {},
   "source": [
    "As we can see, the overall accuracy was a bit over 50%. This means that the network can recognise about half of the names correctly. Remember that we are talking about names that the network has never seen before!\n",
    "\n"
   ]
  },
  {
   "cell_type": "code",
   "execution_count": 21,
   "id": "64e36e08",
   "metadata": {},
   "outputs": [
    {
     "name": "stderr",
     "output_type": "stream",
     "text": [
      "/var/folders/gl/q2977b1d2f11wv63sxv4cyhh0000gn/T/ipykernel_78772/4147302400.py:19: UserWarning: FixedFormatter should only be used together with FixedLocator\n",
      "  ax.set_xticklabels([''] + languages, rotation=90)\n",
      "/var/folders/gl/q2977b1d2f11wv63sxv4cyhh0000gn/T/ipykernel_78772/4147302400.py:20: UserWarning: FixedFormatter should only be used together with FixedLocator\n",
      "  ax.set_yticklabels([''] + languages)\n"
     ]
    },
    {
     "data": {
      "image/png": "[encoded data removed]",
      "text/plain": [
       "<Figure size 640x480 with 2 Axes>"
      ]
     },
     "metadata": {},
     "output_type": "display_data"
    }
   ],
   "source": [
    "import numpy as np\n",
    "import matplotlib.pyplot as plt\n",
    "from matplotlib import ticker\n",
    "\n",
    "# 'confusion' is a 2D NumPy array where the element at index (i, j)\n",
    "# represents the number of times the language at true index i was predicted as the language at index j.\n",
    "# Normalize the confusion matrix by dividing each row by its sum.\n",
    "confusion_normalized = confusion / confusion.sum(axis=1, keepdims=True)\n",
    "\n",
    "# Set up the matplotlib figure and axes.\n",
    "fig, ax = plt.subplots()\n",
    "# Create a matrix plot with the normalized confusion matrix using a colormap of your choice (e.g., 'viridis').\n",
    "cax = ax.matshow(confusion_normalized, cmap='viridis')\n",
    "# Add a color bar to the side of the plot, indicating the scale of the confusion matrix.\n",
    "fig.colorbar(cax)\n",
    "\n",
    "# Set the labels for the x and y axes to the names of the languages.\n",
    "# The languages variable is assumed to be a list of language names.\n",
    "ax.set_xticklabels([''] + languages, rotation=90)\n",
    "ax.set_yticklabels([''] + languages)\n",
    "\n",
    "# Use ticker.MultipleLocator to ensure a label is shown for every language.\n",
    "ax.xaxis.set_major_locator(ticker.MultipleLocator(1))\n",
    "ax.yaxis.set_major_locator(ticker.MultipleLocator(1))\n",
    "\n",
    "# Display the confusion matrix plot.\n",
    "plt.show()\n"
   ]
  },
  {
   "cell_type": "markdown",
   "id": "b1c5abe8",
   "metadata": {},
   "source": [
    "Based on common traits found in confusion matrices:\n",
    "\n",
    "* Diagonal Dominance: A well-performing classification model should have a confusion matrix where the majority of the predictions fall along the diagonal, indicating correct classifications. In your matrix, there are several bright squares along the diagonal, which suggests that many names were correctly classified according to their languages.\n",
    "\n",
    "* Off-Diagonal Bright Spots: Bright squares off the diagonal indicate instances where the model consistently misclassified names from one language as another. These may point to similarities that the model is picking up on between different languages or areas where the model is particularly confused.\n",
    "\n",
    "* Dark Squares: Darker squares, especially off the diagonal, imply fewer misclassifications. However, if dark squares appear on the diagonal, this would suggest that the model often fails to correctly classify names from that particular language.\n",
    "\n",
    "* Column/Row Patterns: If a particular row or column is brighter compared to others, it could indicate that the model has a bias toward predicting a certain language either too frequently or not frequently enough. For example, if a column is consistently brighter, it could mean the model often falsely predicts that language for names of different actual languages.\n",
    "\n",
    "Based on this image:\n",
    "\n",
    "The model seems to be doing well with certain languages, as evidenced by the bright squares along the diagonal.\n",
    "The model may be confusing certain languages with others, suggested by any bright squares away from the diagonal. It would be beneficial to investigate these particular cases to understand why these confusions are occurring.\n",
    "Enhancements to the model or the training process, such as increasing the dataset size, diversifying the training examples, or adjusting model complexity, might improve overall accuracy and reduce confusion.\n",
    "Further analysis could involve looking at specific names that were misclassified and understanding whether the errors are due to the name's linguistic features or a lack of representation in the training data.\n"
   ]
  },
  {
   "cell_type": "code",
   "execution_count": 22,
   "id": "d1d1625b",
   "metadata": {},
   "outputs": [
    {
     "name": "stdout",
     "output_type": "stream",
     "text": [
      "Type names and the network classifies them.\n",
      "An empty name will quit.\n",
      " >> Tanya\n",
      "('Japanese', 3)\n",
      " >> Federico\n",
      "('Portuguese', 13)\n",
      " >> IMing\n",
      "('Chinese', 4)\n",
      " >> Hyunji\n",
      "('Japanese', 3)\n",
      " >> Anastasiia\n",
      "('Czech', 0)\n",
      " >> Bernadette\n",
      "('Russian', 6)\n",
      " >> Siddhartha\n",
      "('Japanese', 3)\n",
      " >> David\n",
      "('French', 7)\n",
      " >> Tulsi\n",
      "('Italian', 12)\n",
      " >> Delia\n",
      "('Spanish', 10)\n",
      " >> Hsuan-Ming\n",
      "('German', 1)\n",
      " >> Ryan\n",
      "('Irish', 8)\n",
      " >> John\n",
      "('Korean', 16)\n",
      " >> \n"
     ]
    }
   ],
   "source": [
    "print(\"Type names and the network classifies them.\")\n",
    "print(\"An empty name will quit.\")\n",
    "while name := input(\" >> \"):\n",
    "    normalised_name = unicode_to_ascii(name.strip())\n",
    "    name_tensor = name_to_tensor(normalised_name)\n",
    "    output = evaluate_test(rnn, name_tensor)\n",
    "    language = language_from_output(output)\n",
    "    print(language)"
   ]
  },
  {
   "cell_type": "markdown",
   "id": "6f43754c",
   "metadata": {},
   "source": [
    "Thus, you may have noticed that the neural network doesn't always, well, learn. This may be occuring for a number of reasons, including inadequate weight initialization, a suboptimal learning rate, or even an insufficient number of training epochs. In some cases, the network architecture itself might not be suitable for the complexity of the data at hand.\n",
    "\n",
    "In any case, the key takeaway here is simple: training neural networks isn't easy! Even for small, relatively simple datasets such as demonstrated, training a neural network can take some care and finesse."
   ]
  },
  {
   "cell_type": "markdown",
   "id": "851b1c20",
   "metadata": {},
   "source": [
    "### References:\n",
    "    \n",
    "1. https://pytorch.org/tutorials/intermediate/char_rnn_classification_tutorial.html"
   ]
  }
 ],
 "metadata": {
  "kernelspec": {
   "display_name": "Python 3 (ipykernel)",
   "language": "python",
   "name": "python3"
  },
  "language_info": {
   "codemirror_mode": {
    "name": "ipython",
    "version": 3
   },
   "file_extension": ".py",
   "mimetype": "text/x-python",
   "name": "python",
   "nbconvert_exporter": "python",
   "pygments_lexer": "ipython3",
   "version": "3.11.5"
  }
 },
 "nbformat": 4,
 "nbformat_minor": 5
}
